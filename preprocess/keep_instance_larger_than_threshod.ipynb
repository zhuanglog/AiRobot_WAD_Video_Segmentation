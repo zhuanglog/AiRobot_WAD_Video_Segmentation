{
 "cells": [
  {
   "cell_type": "code",
   "execution_count": 2,
   "metadata": {},
   "outputs": [
    {
     "name": "stderr",
     "output_type": "stream",
     "text": [
      "100%|██████████████████████████████████████████████████████████████████████████| 35300/35300 [1:50:08<00:00,  5.34it/s]\n",
      "100%|██████████████████████████████████████████████████████████████████████████████| 3922/3922 [16:38<00:00,  3.93it/s]\n"
     ]
    }
   ],
   "source": [
    "import os\n",
    "import json\n",
    "import numpy as np\n",
    "from matplotlib import pyplot as plt\n",
    "threshod = 0\n",
    "from shutil import copyfile\n",
    "from tqdm import tqdm\n",
    "from pathlib import Path\n",
    "\n",
    "\n",
    "\n",
    "with open('../settings.json') as f:\n",
    "    setting = json.load(f)\n",
    "\n",
    "train_imageid_ninstance = dict()\n",
    "with open(\"train_imageid_ninstance.txt\") as f:\n",
    "    for line in f:\n",
    "        (key, val) = line.split(',')\n",
    "        train_imageid_ninstance[key] = int(val)\n",
    "\n",
    "val_imageid_ninstance = dict()\n",
    "with open(\"val_imageid_ninstance.txt\") as f:\n",
    "    for line in f:\n",
    "        (key, val) = line.split(',')\n",
    "        val_imageid_ninstance[key] = int(val)\n",
    "        \n",
    "        \n",
    "train_color_dir = Path(os.path.join('../' , setting['RAW_DATA_DIR'] , 'train_color'))\n",
    "train_label_dir = Path(os.path.join('../' , setting['RAW_DATA_DIR'] , 'train_label'))\n",
    "\n",
    "output_dir =  Path(os.path.join('../', setting['TRAIN_DATA_CLEAN_PATH'], 'train_val'))\n",
    "\n",
    "for mode in ['train', 'val']:\n",
    "    if mode == 'train':\n",
    "        image_dict = train_imageid_ninstance\n",
    "    else:\n",
    "        image_dict = val_imageid_ninstance\n",
    "    output_dir_image = output_dir / mode / 'image'\n",
    "    output_dir_label = output_dir / mode / 'label'\n",
    "    \n",
    "    output_dir_image.mkdir(parents=True, exist_ok=True)\n",
    "    output_dir_label.mkdir(parents=True, exist_ok=True)\n",
    "    \n",
    "    for image_id, value in tqdm(image_dict.items()):\n",
    "        if value >= threshod:\n",
    "            copyfile(train_color_dir/(image_id + '.jpg'), output_dir_image/(image_id + '.jpg'))\n",
    "            copyfile(train_label_dir/(image_id + '_instanceIds.png'), output_dir_label/(image_id + '_instanceIds.png'))\n"
   ]
  },
  {
   "cell_type": "code",
   "execution_count": null,
   "metadata": {},
   "outputs": [],
   "source": []
  }
 ],
 "metadata": {
  "kernelspec": {
   "display_name": "Python 3",
   "language": "python",
   "name": "python3"
  },
  "language_info": {
   "codemirror_mode": {
    "name": "ipython",
    "version": 3
   },
   "file_extension": ".py",
   "mimetype": "text/x-python",
   "name": "python",
   "nbconvert_exporter": "python",
   "pygments_lexer": "ipython3",
   "version": "3.6.6"
  }
 },
 "nbformat": 4,
 "nbformat_minor": 2
}
